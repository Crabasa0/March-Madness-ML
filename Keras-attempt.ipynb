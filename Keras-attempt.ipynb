{
 "cells": [
  {
   "cell_type": "code",
   "execution_count": 2,
   "metadata": {},
   "outputs": [],
   "source": [
    "import numpy as np\n",
    "import pandas as pd"
   ]
  },
  {
   "cell_type": "code",
   "execution_count": 3,
   "metadata": {},
   "outputs": [],
   "source": [
    "cols = ['Result','t1_Score', 't1_FGM', 't1_FGA', 't1_FGM3', 't1_FGA3', 't1_FTM', 't1_FTA', 't1_OR', 't1_DR', 't1_Ast', 't1_TO', 't1_Stl', 't1_Blk', 't1_PF', 't2_Score', 't2_FGM', 't2_FGA', 't2_FGM3', 't2_FGA3', 't2_FTM', 't2_FTA', 't2_OR', 't2_DR', 't2_Ast', 't2_TO', 't2_Stl', 't2_Blk', 't2_PF']\n",
    "df = pd.read_csv('model_ready_small.csv', header=None)\n",
    "df.columns = cols"
   ]
  },
  {
   "cell_type": "code",
   "execution_count": 4,
   "metadata": {},
   "outputs": [],
   "source": [
    "targets = [g[0] for g in df.values]\n",
    "attrs = [g[1:29] for g in df.values]"
   ]
  },
  {
   "cell_type": "code",
   "execution_count": 5,
   "metadata": {},
   "outputs": [],
   "source": [
    "from sklearn.model_selection import train_test_split\n",
    "\n",
    "X_train, X_test, y_train, y_test = train_test_split(attrs, targets, test_size=0.2, random_state=42)"
   ]
  },
  {
   "cell_type": "code",
   "execution_count": 6,
   "metadata": {},
   "outputs": [],
   "source": [
    "from sklearn import preprocessing\n",
    "scaled = [preprocessing.scale(x) for x in [X_train, X_test, y_train, y_test]]"
   ]
  },
  {
   "cell_type": "code",
   "execution_count": 24,
   "metadata": {},
   "outputs": [
    {
     "data": {
      "text/plain": [
       "(10507, 28)"
      ]
     },
     "execution_count": 24,
     "metadata": {},
     "output_type": "execute_result"
    }
   ],
   "source": [
    "np.shape(scaled[1])"
   ]
  },
  {
   "cell_type": "code",
   "execution_count": 43,
   "metadata": {},
   "outputs": [],
   "source": [
    "from keras.models import Sequential\n",
    "from keras.layers import Dense, Activation\n",
    "\n",
    "model = Sequential([\n",
    "    Dense(100, input_shape=(28,)),\n",
    "    Activation('relu'),\n",
    "    Dense(50, )\n",
    "    Dense(1, kernel_initializer='normal', activation='sigmoid')\n",
    "])\n",
    "model.compile(loss='binary_crossentropy', optimizer='adam', metrics=['accuracy'])"
   ]
  },
  {
   "cell_type": "code",
   "execution_count": 44,
   "metadata": {},
   "outputs": [
    {
     "name": "stdout",
     "output_type": "stream",
     "text": [
      "Train on 42028 samples, validate on 10507 samples\n",
      "Epoch 1/10\n",
      "42028/42028 [==============================] - 2s 42us/step - loss: 0.6179 - acc: 0.6535 - val_loss: 0.6033 - val_acc: 0.6664\n",
      "Epoch 2/10\n",
      "42028/42028 [==============================] - 1s 26us/step - loss: 0.6000 - acc: 0.6730 - val_loss: 0.6040 - val_acc: 0.6684\n",
      "Epoch 3/10\n",
      "42028/42028 [==============================] - 1s 27us/step - loss: 0.5969 - acc: 0.6765 - val_loss: 0.5992 - val_acc: 0.6702\n",
      "Epoch 4/10\n",
      "42028/42028 [==============================] - 1s 29us/step - loss: 0.5952 - acc: 0.6781 - val_loss: 0.6025 - val_acc: 0.6648\n",
      "Epoch 5/10\n",
      "42028/42028 [==============================] - 1s 26us/step - loss: 0.5944 - acc: 0.6788 - val_loss: 0.5992 - val_acc: 0.6675\n",
      "Epoch 6/10\n",
      "42028/42028 [==============================] - 1s 30us/step - loss: 0.5940 - acc: 0.6789 - val_loss: 0.5985 - val_acc: 0.6678\n",
      "Epoch 7/10\n",
      "42028/42028 [==============================] - 1s 26us/step - loss: 0.5929 - acc: 0.6790 - val_loss: 0.5998 - val_acc: 0.6703\n",
      "Epoch 8/10\n",
      "42028/42028 [==============================] - 1s 26us/step - loss: 0.5927 - acc: 0.6790 - val_loss: 0.5982 - val_acc: 0.6693\n",
      "Epoch 9/10\n",
      "42028/42028 [==============================] - 1s 26us/step - loss: 0.5925 - acc: 0.6786 - val_loss: 0.5987 - val_acc: 0.6701\n",
      "Epoch 10/10\n",
      "42028/42028 [==============================] - 1s 32us/step - loss: 0.5917 - acc: 0.6799 - val_loss: 0.6008 - val_acc: 0.6695\n"
     ]
    },
    {
     "data": {
      "text/plain": [
       "<keras.callbacks.History at 0x1a48f45668>"
      ]
     },
     "execution_count": 44,
     "metadata": {},
     "output_type": "execute_result"
    }
   ],
   "source": [
    "batch_size = 64\n",
    "epochs = 10\n",
    "\n",
    "model.fit(scaled[0], y_train,\n",
    "          batch_size=batch_size,\n",
    "          epochs=epochs,\n",
    "          verbose=1,\n",
    "          validation_data=(scaled[1], y_test))"
   ]
  },
  {
   "cell_type": "code",
   "execution_count": null,
   "metadata": {},
   "outputs": [],
   "source": []
  }
 ],
 "metadata": {
  "kernelspec": {
   "display_name": "Python 3",
   "language": "python",
   "name": "python3"
  },
  "language_info": {
   "codemirror_mode": {
    "name": "ipython",
    "version": 3
   },
   "file_extension": ".py",
   "mimetype": "text/x-python",
   "name": "python",
   "nbconvert_exporter": "python",
   "pygments_lexer": "ipython3",
   "version": "3.7.1"
  }
 },
 "nbformat": 4,
 "nbformat_minor": 2
}
